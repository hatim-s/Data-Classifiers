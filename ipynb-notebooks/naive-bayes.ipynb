{
 "cells": [
  {
   "cell_type": "code",
   "execution_count": 1,
   "metadata": {},
   "outputs": [],
   "source": [
    "# %pip install numpy\n",
    "# %pip install pandas\n",
    "# %pip install networkx\n",
    "# %pip install matplotlib"
   ]
  },
  {
   "cell_type": "code",
   "execution_count": 2,
   "metadata": {},
   "outputs": [],
   "source": [
    "import numpy\n",
    "import pandas\n",
    "import math"
   ]
  },
  {
   "cell_type": "code",
   "execution_count": 3,
   "metadata": {},
   "outputs": [],
   "source": [
    "train_df = pandas.read_csv('train.csv')\n",
    "test_df = pandas.read_csv('test.csv')"
   ]
  },
  {
   "cell_type": "code",
   "execution_count": 4,
   "metadata": {},
   "outputs": [
    {
     "data": {
      "text/html": [
       "<div>\n",
       "<style scoped>\n",
       "    .dataframe tbody tr th:only-of-type {\n",
       "        vertical-align: middle;\n",
       "    }\n",
       "\n",
       "    .dataframe tbody tr th {\n",
       "        vertical-align: top;\n",
       "    }\n",
       "\n",
       "    .dataframe thead th {\n",
       "        text-align: right;\n",
       "    }\n",
       "</style>\n",
       "<table border=\"1\" class=\"dataframe\">\n",
       "  <thead>\n",
       "    <tr style=\"text-align: right;\">\n",
       "      <th></th>\n",
       "      <th>pclass</th>\n",
       "      <th>age</th>\n",
       "      <th>gender</th>\n",
       "      <th>survived</th>\n",
       "    </tr>\n",
       "  </thead>\n",
       "  <tbody>\n",
       "    <tr>\n",
       "      <th>0</th>\n",
       "      <td>1st</td>\n",
       "      <td>adult</td>\n",
       "      <td>male</td>\n",
       "      <td>yes</td>\n",
       "    </tr>\n",
       "    <tr>\n",
       "      <th>1</th>\n",
       "      <td>1st</td>\n",
       "      <td>adult</td>\n",
       "      <td>male</td>\n",
       "      <td>yes</td>\n",
       "    </tr>\n",
       "    <tr>\n",
       "      <th>2</th>\n",
       "      <td>1st</td>\n",
       "      <td>adult</td>\n",
       "      <td>male</td>\n",
       "      <td>yes</td>\n",
       "    </tr>\n",
       "    <tr>\n",
       "      <th>3</th>\n",
       "      <td>1st</td>\n",
       "      <td>adult</td>\n",
       "      <td>male</td>\n",
       "      <td>yes</td>\n",
       "    </tr>\n",
       "    <tr>\n",
       "      <th>4</th>\n",
       "      <td>1st</td>\n",
       "      <td>adult</td>\n",
       "      <td>male</td>\n",
       "      <td>yes</td>\n",
       "    </tr>\n",
       "    <tr>\n",
       "      <th>5</th>\n",
       "      <td>1st</td>\n",
       "      <td>adult</td>\n",
       "      <td>male</td>\n",
       "      <td>yes</td>\n",
       "    </tr>\n",
       "    <tr>\n",
       "      <th>6</th>\n",
       "      <td>1st</td>\n",
       "      <td>adult</td>\n",
       "      <td>male</td>\n",
       "      <td>yes</td>\n",
       "    </tr>\n",
       "    <tr>\n",
       "      <th>7</th>\n",
       "      <td>1st</td>\n",
       "      <td>adult</td>\n",
       "      <td>male</td>\n",
       "      <td>yes</td>\n",
       "    </tr>\n",
       "    <tr>\n",
       "      <th>8</th>\n",
       "      <td>1st</td>\n",
       "      <td>adult</td>\n",
       "      <td>male</td>\n",
       "      <td>yes</td>\n",
       "    </tr>\n",
       "    <tr>\n",
       "      <th>9</th>\n",
       "      <td>1st</td>\n",
       "      <td>adult</td>\n",
       "      <td>male</td>\n",
       "      <td>yes</td>\n",
       "    </tr>\n",
       "  </tbody>\n",
       "</table>\n",
       "</div>"
      ],
      "text/plain": [
       "  pclass    age gender survived\n",
       "0    1st  adult   male      yes\n",
       "1    1st  adult   male      yes\n",
       "2    1st  adult   male      yes\n",
       "3    1st  adult   male      yes\n",
       "4    1st  adult   male      yes\n",
       "5    1st  adult   male      yes\n",
       "6    1st  adult   male      yes\n",
       "7    1st  adult   male      yes\n",
       "8    1st  adult   male      yes\n",
       "9    1st  adult   male      yes"
      ]
     },
     "execution_count": 4,
     "metadata": {},
     "output_type": "execute_result"
    }
   ],
   "source": [
    "train_df.head(10)"
   ]
  },
  {
   "cell_type": "code",
   "execution_count": 5,
   "metadata": {},
   "outputs": [
    {
     "data": {
      "text/html": [
       "<div>\n",
       "<style scoped>\n",
       "    .dataframe tbody tr th:only-of-type {\n",
       "        vertical-align: middle;\n",
       "    }\n",
       "\n",
       "    .dataframe tbody tr th {\n",
       "        vertical-align: top;\n",
       "    }\n",
       "\n",
       "    .dataframe thead th {\n",
       "        text-align: right;\n",
       "    }\n",
       "</style>\n",
       "<table border=\"1\" class=\"dataframe\">\n",
       "  <thead>\n",
       "    <tr style=\"text-align: right;\">\n",
       "      <th></th>\n",
       "      <th>pclass</th>\n",
       "      <th>age</th>\n",
       "      <th>gender</th>\n",
       "      <th>survived</th>\n",
       "    </tr>\n",
       "  </thead>\n",
       "  <tbody>\n",
       "    <tr>\n",
       "      <th>0</th>\n",
       "      <td>1st</td>\n",
       "      <td>adult</td>\n",
       "      <td>male</td>\n",
       "      <td>yes</td>\n",
       "    </tr>\n",
       "    <tr>\n",
       "      <th>1</th>\n",
       "      <td>1st</td>\n",
       "      <td>adult</td>\n",
       "      <td>male</td>\n",
       "      <td>yes</td>\n",
       "    </tr>\n",
       "    <tr>\n",
       "      <th>2</th>\n",
       "      <td>1st</td>\n",
       "      <td>adult</td>\n",
       "      <td>male</td>\n",
       "      <td>yes</td>\n",
       "    </tr>\n",
       "    <tr>\n",
       "      <th>3</th>\n",
       "      <td>1st</td>\n",
       "      <td>adult</td>\n",
       "      <td>male</td>\n",
       "      <td>yes</td>\n",
       "    </tr>\n",
       "    <tr>\n",
       "      <th>4</th>\n",
       "      <td>1st</td>\n",
       "      <td>adult</td>\n",
       "      <td>male</td>\n",
       "      <td>yes</td>\n",
       "    </tr>\n",
       "    <tr>\n",
       "      <th>5</th>\n",
       "      <td>1st</td>\n",
       "      <td>adult</td>\n",
       "      <td>male</td>\n",
       "      <td>yes</td>\n",
       "    </tr>\n",
       "    <tr>\n",
       "      <th>6</th>\n",
       "      <td>1st</td>\n",
       "      <td>adult</td>\n",
       "      <td>male</td>\n",
       "      <td>yes</td>\n",
       "    </tr>\n",
       "    <tr>\n",
       "      <th>7</th>\n",
       "      <td>1st</td>\n",
       "      <td>adult</td>\n",
       "      <td>male</td>\n",
       "      <td>yes</td>\n",
       "    </tr>\n",
       "    <tr>\n",
       "      <th>8</th>\n",
       "      <td>1st</td>\n",
       "      <td>adult</td>\n",
       "      <td>male</td>\n",
       "      <td>yes</td>\n",
       "    </tr>\n",
       "    <tr>\n",
       "      <th>9</th>\n",
       "      <td>1st</td>\n",
       "      <td>adult</td>\n",
       "      <td>male</td>\n",
       "      <td>yes</td>\n",
       "    </tr>\n",
       "  </tbody>\n",
       "</table>\n",
       "</div>"
      ],
      "text/plain": [
       "  pclass    age gender survived\n",
       "0    1st  adult   male      yes\n",
       "1    1st  adult   male      yes\n",
       "2    1st  adult   male      yes\n",
       "3    1st  adult   male      yes\n",
       "4    1st  adult   male      yes\n",
       "5    1st  adult   male      yes\n",
       "6    1st  adult   male      yes\n",
       "7    1st  adult   male      yes\n",
       "8    1st  adult   male      yes\n",
       "9    1st  adult   male      yes"
      ]
     },
     "execution_count": 5,
     "metadata": {},
     "output_type": "execute_result"
    }
   ],
   "source": [
    "test_df.head(10)"
   ]
  },
  {
   "cell_type": "code",
   "execution_count": 6,
   "metadata": {},
   "outputs": [
    {
     "data": {
      "text/html": [
       "<div>\n",
       "<style scoped>\n",
       "    .dataframe tbody tr th:only-of-type {\n",
       "        vertical-align: middle;\n",
       "    }\n",
       "\n",
       "    .dataframe tbody tr th {\n",
       "        vertical-align: top;\n",
       "    }\n",
       "\n",
       "    .dataframe thead th {\n",
       "        text-align: right;\n",
       "    }\n",
       "</style>\n",
       "<table border=\"1\" class=\"dataframe\">\n",
       "  <thead>\n",
       "    <tr style=\"text-align: right;\">\n",
       "      <th></th>\n",
       "      <th>pclass</th>\n",
       "      <th>age</th>\n",
       "      <th>gender</th>\n",
       "      <th>survived</th>\n",
       "    </tr>\n",
       "  </thead>\n",
       "  <tbody>\n",
       "    <tr>\n",
       "      <th>count</th>\n",
       "      <td>2150</td>\n",
       "      <td>2150</td>\n",
       "      <td>2150</td>\n",
       "      <td>2150</td>\n",
       "    </tr>\n",
       "    <tr>\n",
       "      <th>unique</th>\n",
       "      <td>4</td>\n",
       "      <td>2</td>\n",
       "      <td>2</td>\n",
       "      <td>2</td>\n",
       "    </tr>\n",
       "    <tr>\n",
       "      <th>top</th>\n",
       "      <td>crew</td>\n",
       "      <td>adult</td>\n",
       "      <td>male</td>\n",
       "      <td>no</td>\n",
       "    </tr>\n",
       "    <tr>\n",
       "      <th>freq</th>\n",
       "      <td>885</td>\n",
       "      <td>2046</td>\n",
       "      <td>1710</td>\n",
       "      <td>1485</td>\n",
       "    </tr>\n",
       "  </tbody>\n",
       "</table>\n",
       "</div>"
      ],
      "text/plain": [
       "       pclass    age gender survived\n",
       "count    2150   2150   2150     2150\n",
       "unique      4      2      2        2\n",
       "top      crew  adult   male       no\n",
       "freq      885   2046   1710     1485"
      ]
     },
     "execution_count": 6,
     "metadata": {},
     "output_type": "execute_result"
    }
   ],
   "source": [
    "train_df.describe()"
   ]
  },
  {
   "cell_type": "code",
   "execution_count": 7,
   "metadata": {},
   "outputs": [
    {
     "name": "stdout",
     "output_type": "stream",
     "text": [
      "pclass\n",
      "crew    885\n",
      "3rd     699\n",
      "1st     307\n",
      "2nd     259\n",
      "Name: count, dtype: int64\n",
      "age\n",
      "adult    2046\n",
      "child     104\n",
      "Name: count, dtype: int64\n",
      "gender\n",
      "male      1710\n",
      "female     440\n",
      "Name: count, dtype: int64\n",
      "survived\n",
      "no     1485\n",
      "yes     665\n",
      "Name: count, dtype: int64\n"
     ]
    }
   ],
   "source": [
    "for col in train_df.columns:\n",
    "    print(train_df[col].value_counts())"
   ]
  },
  {
   "cell_type": "markdown",
   "metadata": {},
   "source": [
    "# Model: Naive Bayes Classifier"
   ]
  },
  {
   "cell_type": "code",
   "execution_count": 8,
   "metadata": {},
   "outputs": [],
   "source": [
    "def calculate_prior_probabilities (target_values: numpy.ndarray):\n",
    "    unique_targets, target_counts = numpy.unique(target_values, return_counts=True)\n",
    "\n",
    "    total_targets = len(target_values)\n",
    "    target_probs = {target : (count + 1) / (total_targets + 2)  for target, count in zip(unique_targets, target_counts)}\n",
    "\n",
    "    return target_probs\n",
    "\n",
    "def calculate_feature_probabilities (train_data: pandas.core.frame.DataFrame, target_column: str):\n",
    "    alpha = 1\n",
    "\n",
    "    feature_probabilities = {}\n",
    "    for target_class in train_df[target_column].unique():\n",
    "        # print (target_class)\n",
    "        mask = train_df[target_column] == target_class\n",
    "        masked_df = train_df[mask].drop(target_column, axis=1)\n",
    "\n",
    "        for column in masked_df:\n",
    "            unique_values = masked_df[column].unique()\n",
    "            value_counts = masked_df[column].value_counts()\n",
    "            # print (unique_values, value_counts)\n",
    "            # print (type(unique_values), type(value_counts))\n",
    "\n",
    "            for value in unique_values:\n",
    "                feature_probabilities[(value, target_class)] = (\n",
    "                    (value_counts[value] + alpha) / (len(masked_df) + alpha*len(unique_values))\n",
    "                )\n",
    "\n",
    "    return feature_probabilities"
   ]
  },
  {
   "cell_type": "code",
   "execution_count": 9,
   "metadata": {},
   "outputs": [
    {
     "name": "stdout",
     "output_type": "stream",
     "text": [
      "{('1st', 'yes'): 0.27802690582959644, ('2nd', 'yes'): 0.14648729446935724, ('3rd', 'yes'): 0.2571001494768311, ('crew', 'yes'): 0.3183856502242152, ('adult', 'yes'): 0.9205397301349325, ('child', 'yes'): 0.07946026986506746, ('male', 'yes'): 0.527736131934033, ('female', 'yes'): 0.47226386806596704, ('1st', 'no'): 0.08260577568838147, ('2nd', 'no'): 0.10946944257891202, ('3rd', 'no'): 0.3552719946272666, ('crew', 'no'): 0.4526527871054399, ('adult', 'no'): 0.9643577673167452, ('child', 'no'): 0.03564223268325487, ('male', 'no'): 0.9145931405514459, ('female', 'no'): 0.08540685944855414}\n"
     ]
    }
   ],
   "source": [
    "feature_probs = calculate_feature_probabilities (train_data=train_df, target_column='survived')\n",
    "print (feature_probs)"
   ]
  },
  {
   "cell_type": "code",
   "execution_count": 10,
   "metadata": {},
   "outputs": [
    {
     "name": "stdout",
     "output_type": "stream",
     "text": [
      "{'no': 0.6905204460966543, 'yes': 0.30947955390334575}\n"
     ]
    }
   ],
   "source": [
    "target_probs = calculate_prior_probabilities (target_values=train_df.survived)\n",
    "print (target_probs)"
   ]
  },
  {
   "cell_type": "code",
   "execution_count": 11,
   "metadata": {},
   "outputs": [],
   "source": [
    "with open('./probabilities.txt', 'w') as file:\n",
    "    for key, value in target_probs.items():\n",
    "        file.write(f\"{key} : {value}\\n\")"
   ]
  },
  {
   "cell_type": "code",
   "execution_count": 12,
   "metadata": {},
   "outputs": [],
   "source": [
    "with open('./probabilities.txt', 'a') as file:\n",
    "    for key, value in feature_probs.items():\n",
    "        file.write(f\"{key[0]}, {key[1]} : {value}\\n\")"
   ]
  },
  {
   "cell_type": "code",
   "execution_count": 13,
   "metadata": {},
   "outputs": [],
   "source": [
    "import json\n",
    "\n",
    "json_file_path = './probabilities.json'\n",
    "\n",
    "with open (json_file_path, 'w') as json_file:\n",
    "    string_key_dict = {str(key): value for key, value in feature_probs.items()}\n",
    "    json.dump(string_key_dict, json_file, indent=4)"
   ]
  },
  {
   "cell_type": "code",
   "execution_count": 14,
   "metadata": {},
   "outputs": [],
   "source": [
    "def predict_target_value(test_features: numpy.ndarray, target_values: numpy.ndarray):\n",
    "    max_prob = float('-inf')\n",
    "    target_class = None\n",
    "    for target_val in target_values:\n",
    "        p_feature_class = 1\n",
    "        for feat in test_features:\n",
    "            p_feature_class *= feature_probs.get((feat, target_val), 0)\n",
    "\n",
    "        p_target = target_probs.get(target_val, 0)\n",
    "\n",
    "        prob = (p_target * p_feature_class)\n",
    "\n",
    "        if (prob > max_prob):\n",
    "            max_prob = prob\n",
    "            target_class = target_val\n",
    "\n",
    "    return target_class"
   ]
  },
  {
   "cell_type": "code",
   "execution_count": 15,
   "metadata": {},
   "outputs": [
    {
     "name": "stdout",
     "output_type": "stream",
     "text": [
      "['no', 'no', 'no', 'no', 'no', 'no', 'no', 'no', 'no', 'no', 'no', 'no', 'no', 'no', 'no', 'yes', 'yes', 'yes', 'yes', 'yes', 'yes', 'yes', 'yes', 'yes', 'yes', 'yes', 'yes', 'yes', 'yes', 'yes', 'yes', 'yes', 'yes', 'no', 'no', 'no', 'no', 'no', 'no', 'no', 'no', 'no', 'no', 'no', 'no', 'no', 'no', 'yes', 'yes', 'yes', 'yes', 'yes', 'yes', 'yes', 'yes', 'yes', 'yes', 'yes', 'yes', 'no', 'no', 'no', 'no', 'no', 'no', 'no']\n",
      "(array(['no', 'yes'], dtype='<U3'), array([36, 30]))\n"
     ]
    }
   ],
   "source": [
    "predictions = [predict_target_value(row.values[:-1], numpy.unique(test_df.survived.values)) for _, row in test_df.iterrows()]\n",
    "\n",
    "print (predictions)\n",
    "print (numpy.unique(numpy.array(predictions), return_counts=True))"
   ]
  },
  {
   "cell_type": "code",
   "execution_count": 16,
   "metadata": {},
   "outputs": [],
   "source": [
    "def calculate_confusion_matrix(predictions, actual):\n",
    "    # print (type(predictions), predictions.shape)\n",
    "    # print (type(actual), actual.shape)\n",
    "\n",
    "    true_positives = sum([pred=='yes' and label=='yes' for pred, label in zip(predictions, actual)])\n",
    "    false_positives = sum([pred=='yes' and label=='no' for pred, label in zip(predictions, actual)])\n",
    "\n",
    "    true_negatives = sum([pred=='no' and label=='no' for pred, label in zip(predictions, actual)])\n",
    "    false_negatives = sum([pred=='no' and label=='yes' for pred, label in zip(predictions, actual)])\n",
    "\n",
    "    confusion_matrix = {\n",
    "        'TP' : true_positives, \n",
    "        'FP' : false_positives, \n",
    "        'TN' : true_negatives, \n",
    "        'FN' : false_negatives, \n",
    "    }\n",
    "\n",
    "    return confusion_matrix"
   ]
  },
  {
   "cell_type": "code",
   "execution_count": 17,
   "metadata": {},
   "outputs": [],
   "source": [
    "test_df_labels = test_df['survived'].values.reshape(1, -1)[0, :]"
   ]
  },
  {
   "cell_type": "code",
   "execution_count": 18,
   "metadata": {},
   "outputs": [],
   "source": [
    "confusion_matrix = calculate_confusion_matrix(predictions=predictions, actual=test_df_labels)"
   ]
  },
  {
   "cell_type": "code",
   "execution_count": 19,
   "metadata": {},
   "outputs": [
    {
     "name": "stdout",
     "output_type": "stream",
     "text": [
      "{'TP': 30, 'FP': 0, 'TN': 5, 'FN': 31}\n"
     ]
    }
   ],
   "source": [
    "print (confusion_matrix)"
   ]
  },
  {
   "cell_type": "code",
   "execution_count": 20,
   "metadata": {},
   "outputs": [],
   "source": [
    "def calculate_evaluation_metrics (confusion_matrix):\n",
    "    TP = confusion_matrix['TP']\n",
    "    FP = confusion_matrix['FP']\n",
    "    TN = confusion_matrix['TN']\n",
    "    FN = confusion_matrix['FN']\n",
    "\n",
    "    precision = TP / (TP + FP)\n",
    "    recall = TP / (TP + FN)\n",
    "    accuracy = (TP + TN) / (TP + FP + TN + FN)\n",
    "\n",
    "    return precision, recall, accuracy"
   ]
  },
  {
   "cell_type": "code",
   "execution_count": 21,
   "metadata": {},
   "outputs": [],
   "source": [
    "precision, recall, accuracy = calculate_evaluation_metrics(confusion_matrix)"
   ]
  },
  {
   "cell_type": "code",
   "execution_count": 22,
   "metadata": {},
   "outputs": [
    {
     "name": "stdout",
     "output_type": "stream",
     "text": [
      "Precision: 1.00\n",
      "Recall: 0.49\n",
      "Accuracy: 0.53\n"
     ]
    }
   ],
   "source": [
    "print(f'Precision: {precision:.2f}')\n",
    "print(f'Recall: {recall:.2f}')\n",
    "print(f'Accuracy: {accuracy:.2f}')"
   ]
  },
  {
   "cell_type": "code",
   "execution_count": 23,
   "metadata": {},
   "outputs": [],
   "source": [
    "# Actual:           yes yes yes yes yes yes yes yes yes yes yes yes yes yes yes yes yes yes yes yes yes yes yes yes yes yes yes yes yes yes yes yes yes yes yes yes yes yes yes yes yes yes no  no  no  no  no  yes yes yes yes yes yes yes yes yes yes yes yes yes yes yes yes yes yes yes \n",
    "# Predictions (DT): no  no  no  no  no  no  no  no  no  no  no  no  no  no  no  yes yes yes yes yes yes yes yes yes yes yes yes yes yes yes yes yes yes no  no  no  no  no  no  no  no  no  no  no  no  no  no  yes yes yes yes yes yes yes yes yes yes yes yes no  no  no  no  no  no  no  \n",
    "# Predictions (NB): no  no  no  no  no  no  no  no  no  no  no  no  no  no  no  yes yes yes yes yes yes yes yes yes yes yes yes yes yes yes yes yes yes no  no  no  no  no  no  no  no  no  no  no  no  no  no  yes yes yes yes yes yes yes yes yes yes yes yes no  no  no  no  no  no  no  "
   ]
  }
 ],
 "metadata": {
  "kernelspec": {
   "display_name": "Python 3",
   "language": "python",
   "name": "python3"
  },
  "language_info": {
   "codemirror_mode": {
    "name": "ipython",
    "version": 3
   },
   "file_extension": ".py",
   "mimetype": "text/x-python",
   "name": "python",
   "nbconvert_exporter": "python",
   "pygments_lexer": "ipython3",
   "version": "3.10.12"
  }
 },
 "nbformat": 4,
 "nbformat_minor": 2
}
